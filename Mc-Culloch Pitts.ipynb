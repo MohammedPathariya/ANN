{
 "cells": [
  {
   "cell_type": "code",
   "execution_count": 1,
   "id": "5cdb7c6e",
   "metadata": {},
   "outputs": [],
   "source": [
    "import numpy as np"
   ]
  },
  {
   "cell_type": "markdown",
   "id": "f8e4c73d",
   "metadata": {},
   "source": [
    "### AND"
   ]
  },
  {
   "cell_type": "code",
   "execution_count": 60,
   "id": "59109033",
   "metadata": {},
   "outputs": [],
   "source": [
    "#Function for the calculation of the model (AND Gate)\n",
    "def and_calc(x1, x2, w, b):\n",
    "    out = []\n",
    "    for i in range(len(x1)):\n",
    "        weighted_sum = (x1[i]*w) + (x2[i]*w) + b\n",
    "        print(weighted_sum)\n",
    "        if (weighted_sum > 2):\n",
    "            out.append(1)\n",
    "        else:\n",
    "            out.append(0)\n",
    "    return out"
   ]
  },
  {
   "cell_type": "code",
   "execution_count": 61,
   "id": "29da3706",
   "metadata": {},
   "outputs": [
    {
     "name": "stdout",
     "output_type": "stream",
     "text": [
      "1\n",
      "2\n",
      "2\n",
      "3\n"
     ]
    },
    {
     "data": {
      "text/plain": [
       "[0, 0, 0, 1]"
      ]
     },
     "execution_count": 61,
     "metadata": {},
     "output_type": "execute_result"
    }
   ],
   "source": [
    "#Inputs and calling the function\n",
    "\n",
    "x1=[0,0,1,1]\n",
    "x2=[0,1,0,1]\n",
    "w=1\n",
    "b=1\n",
    "\n",
    "and_calc(x1,x2,w,b)"
   ]
  },
  {
   "cell_type": "markdown",
   "id": "f6287e14",
   "metadata": {},
   "source": [
    "### ANDNOT"
   ]
  },
  {
   "cell_type": "code",
   "execution_count": 62,
   "id": "9365dbef",
   "metadata": {},
   "outputs": [],
   "source": [
    "#Function for the calculation of the model (ANDNOT/ NAND Gate)\n",
    "\n",
    "def andnot_calc (x1, x2, w, b):\n",
    "    output = []\n",
    "    for i in range(len(x1)):\n",
    "        weighted_sum1 = (x1[i]*w)+ (x2[i]*w)+ b\n",
    "        print(weighted_sum1)\n",
    "        if (weighted_sum1 <= 2):\n",
    "            output.append(1) #The only change is here\n",
    "            \n",
    "        else:\n",
    "            output.append(0)\n",
    "            \n",
    "    return output"
   ]
  },
  {
   "cell_type": "code",
   "execution_count": 63,
   "id": "6e3a1e0b",
   "metadata": {},
   "outputs": [
    {
     "name": "stdout",
     "output_type": "stream",
     "text": [
      "1\n",
      "2\n",
      "2\n",
      "3\n"
     ]
    },
    {
     "data": {
      "text/plain": [
       "[1, 1, 1, 0]"
      ]
     },
     "execution_count": 63,
     "metadata": {},
     "output_type": "execute_result"
    }
   ],
   "source": [
    "#Inputs and calling the function\n",
    "\n",
    "x1=[0,0,1,1]\n",
    "x2=[0,1,0,1]\n",
    "w=1\n",
    "b=1\n",
    "\n",
    "andnot_calc(x1,x2,w,b)"
   ]
  },
  {
   "cell_type": "markdown",
   "id": "56a37d26",
   "metadata": {},
   "source": [
    "### NAND"
   ]
  },
  {
   "cell_type": "code",
   "execution_count": 64,
   "id": "65ab215f",
   "metadata": {},
   "outputs": [],
   "source": [
    "def nand_calc(x1, x2, w, b):\n",
    "    output = []\n",
    "    for i in range(len(x1)):\n",
    "        weighted_sum3 = x1[i]*w + x2[i]*w + b\n",
    "        print(weighted_sum3)\n",
    "        if(weighted_sum3 <= 2):\n",
    "            output.append(1)\n",
    "        else:\n",
    "            output.append(0)\n",
    "    return output"
   ]
  },
  {
   "cell_type": "code",
   "execution_count": 65,
   "id": "ee3739ec",
   "metadata": {},
   "outputs": [
    {
     "name": "stdout",
     "output_type": "stream",
     "text": [
      "1\n",
      "2\n",
      "2\n",
      "3\n"
     ]
    },
    {
     "data": {
      "text/plain": [
       "[1, 1, 1, 0]"
      ]
     },
     "execution_count": 65,
     "metadata": {},
     "output_type": "execute_result"
    }
   ],
   "source": [
    "#Inputs and calling the function\n",
    "\n",
    "x1=[0,0,1,1]\n",
    "x2=[0,1,0,1]\n",
    "w=1\n",
    "b=1\n",
    "\n",
    "nand_calc(x1,x2,w,b)"
   ]
  },
  {
   "cell_type": "markdown",
   "id": "59aac530",
   "metadata": {},
   "source": [
    "### OR"
   ]
  },
  {
   "cell_type": "code",
   "execution_count": 66,
   "id": "eb7678f4",
   "metadata": {},
   "outputs": [],
   "source": [
    "def or_calc(x1, x2, w, b):\n",
    "       \n",
    "    output=[]\n",
    "    for i in range(len(x1)):\n",
    "        weighted_sum5 = x1[i]*w + x2[i]*w + b\n",
    "        print(weighted_sum5)\n",
    "        if(weighted_sum5 >= 2):\n",
    "            output.append(1)\n",
    "        else:\n",
    "            output.append(0)\n",
    "    return output"
   ]
  },
  {
   "cell_type": "code",
   "execution_count": 67,
   "id": "8ef150b1",
   "metadata": {},
   "outputs": [
    {
     "name": "stdout",
     "output_type": "stream",
     "text": [
      "1\n",
      "2\n",
      "2\n",
      "3\n"
     ]
    },
    {
     "data": {
      "text/plain": [
       "[0, 1, 1, 1]"
      ]
     },
     "execution_count": 67,
     "metadata": {},
     "output_type": "execute_result"
    }
   ],
   "source": [
    "#Inputs and calling the function\n",
    "\n",
    "x1=[0,0,1,1]\n",
    "x2=[0,1,0,1]\n",
    "w=1\n",
    "b=1\n",
    "\n",
    "or_calc(x1,x2,w,b)"
   ]
  },
  {
   "cell_type": "markdown",
   "id": "81d5a97b",
   "metadata": {},
   "source": [
    "### XOR"
   ]
  },
  {
   "cell_type": "code",
   "execution_count": 68,
   "id": "1247b785",
   "metadata": {},
   "outputs": [],
   "source": [
    "def xor_calc(x1, x2, w, b):\n",
    "    output = []\n",
    "    for i in range(len(x1)):\n",
    "        weighted_sum4 = x1[i]*w + x2[i]*w + b\n",
    "        print(weighted_sum4)\n",
    "        if(weighted_sum4 == 2):\n",
    "            output.append(1)\n",
    "        else:\n",
    "            output.append(0)\n",
    "    return output"
   ]
  },
  {
   "cell_type": "code",
   "execution_count": 69,
   "id": "865dce58",
   "metadata": {},
   "outputs": [
    {
     "name": "stdout",
     "output_type": "stream",
     "text": [
      "1\n",
      "2\n",
      "2\n",
      "3\n"
     ]
    },
    {
     "data": {
      "text/plain": [
       "[0, 1, 1, 0]"
      ]
     },
     "execution_count": 69,
     "metadata": {},
     "output_type": "execute_result"
    }
   ],
   "source": [
    "#Inputs and calling the function\n",
    "\n",
    "x1=[0,0,1,1]\n",
    "x2=[0,1,0,1]\n",
    "w=1\n",
    "b=1\n",
    "\n",
    "xor_calc(x1,x2,w,b)"
   ]
  }
 ],
 "metadata": {
  "kernelspec": {
   "display_name": "Python 3 (ipykernel)",
   "language": "python",
   "name": "python3"
  },
  "language_info": {
   "codemirror_mode": {
    "name": "ipython",
    "version": 3
   },
   "file_extension": ".py",
   "mimetype": "text/x-python",
   "name": "python",
   "nbconvert_exporter": "python",
   "pygments_lexer": "ipython3",
   "version": "3.11.4"
  }
 },
 "nbformat": 4,
 "nbformat_minor": 5
}
